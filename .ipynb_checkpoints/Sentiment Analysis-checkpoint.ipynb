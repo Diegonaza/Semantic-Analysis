{
 "cells": [
  {
   "cell_type": "code",
   "execution_count": 1,
   "id": "e5fd65d0",
   "metadata": {},
   "outputs": [],
   "source": [
    "import pandas as pd\n",
    "import nltk\n",
    "from nltk.corpus import stopwords\n",
    "import string\n",
    "from nltk.stem import WordNetLemmatizer\n",
    "from nltk.sentiment import SentimentIntensityAnalyzer\n",
    "import itertools\n",
    "\n",
    "from sklearn.feature_extraction.text import TfidfVectorizer\n",
    "from sklearn.naive_bayes import MultinomialNB\n",
    "from sklearn.model_selection import train_test_split\n",
    "from sklearn.metrics import classification_report\n",
    "\n",
    "from matplotlib import pyplot as plt\n",
    "import numpy as np\n",
    "\n",
    "import joblib\n",
    "from joblib import load"
   ]
  },
  {
   "cell_type": "code",
   "execution_count": 2,
   "id": "aa27c018",
   "metadata": {},
   "outputs": [
    {
     "name": "stderr",
     "output_type": "stream",
     "text": [
      "[nltk_data] Downloading package vader_lexicon to\n",
      "[nltk_data]     C:\\Users\\diego\\AppData\\Roaming\\nltk_data...\n",
      "[nltk_data]   Package vader_lexicon is already up-to-date!\n",
      "[nltk_data] Downloading package stopwords to\n",
      "[nltk_data]     C:\\Users\\diego\\AppData\\Roaming\\nltk_data...\n",
      "[nltk_data]   Package stopwords is already up-to-date!\n",
      "[nltk_data] Downloading package punkt to\n",
      "[nltk_data]     C:\\Users\\diego\\AppData\\Roaming\\nltk_data...\n",
      "[nltk_data]   Package punkt is already up-to-date!\n",
      "[nltk_data] Downloading package wordnet to\n",
      "[nltk_data]     C:\\Users\\diego\\AppData\\Roaming\\nltk_data...\n",
      "[nltk_data]   Package wordnet is already up-to-date!\n",
      "[nltk_data] Downloading package omw-1.4 to\n",
      "[nltk_data]     C:\\Users\\diego\\AppData\\Roaming\\nltk_data...\n",
      "[nltk_data]   Package omw-1.4 is already up-to-date!\n"
     ]
    },
    {
     "data": {
      "text/plain": [
       "True"
      ]
     },
     "execution_count": 2,
     "metadata": {},
     "output_type": "execute_result"
    }
   ],
   "source": [
    "nltk.download('vader_lexicon')\n",
    "nltk.download('stopwords')\n",
    "nltk.download('punkt')\n",
    "nltk.download('wordnet')\n",
    "nltk.download('omw-1.4')"
   ]
  },
  {
   "cell_type": "code",
   "execution_count": 3,
   "id": "e02376cb",
   "metadata": {},
   "outputs": [],
   "source": [
    "df = pd.read_csv('reddit_data.csv', encoding='utf-8')"
   ]
  },
  {
   "cell_type": "markdown",
   "id": "c132cd50",
   "metadata": {},
   "source": [
    "# Intro\n",
    "\n",
    "## I chose a dataset that contains user comments in different topics on reddit, I find this dataset interesting for this project because it looks a bit more challenging, with the raw data there are no explicit parameters that helps defining if a comment is positive, negative or neutral so everything should be done from scratch, also the text contains a lot of things that we can work on that would improve the model's performance, such removing http links and special characters, by applying some techniques i will be able to demonstrate my data preparation skills and hopefully I would be able to demonstrate my understanding about Natural language processing, the objective of this project is to train a model that would be able to perform sentiment analysis on text samples and classify if the text is positive, negative or neutral."
   ]
  },
  {
   "cell_type": "markdown",
   "id": "6a6e8973",
   "metadata": {},
   "source": [
    "\n",
    "\n",
    "## First let us take a look at the data present in the dataset, that would help us understanding how we can work with the data we have and then we can start thinking on the data preparation steps that we will take."
   ]
  },
  {
   "cell_type": "code",
   "execution_count": 4,
   "id": "43653486",
   "metadata": {
    "scrolled": true
   },
   "outputs": [
    {
     "data": {
      "text/html": [
       "<div>\n",
       "<style scoped>\n",
       "    .dataframe tbody tr th:only-of-type {\n",
       "        vertical-align: middle;\n",
       "    }\n",
       "\n",
       "    .dataframe tbody tr th {\n",
       "        vertical-align: top;\n",
       "    }\n",
       "\n",
       "    .dataframe thead th {\n",
       "        text-align: right;\n",
       "    }\n",
       "</style>\n",
       "<table border=\"1\" class=\"dataframe\">\n",
       "  <thead>\n",
       "    <tr style=\"text-align: right;\">\n",
       "      <th></th>\n",
       "      <th>parent_id</th>\n",
       "      <th>text</th>\n",
       "      <th>topic</th>\n",
       "      <th>length</th>\n",
       "      <th>size_range</th>\n",
       "    </tr>\n",
       "  </thead>\n",
       "  <tbody>\n",
       "    <tr>\n",
       "      <th>0</th>\n",
       "      <td>t1_crojgfu</td>\n",
       "      <td>Thanks! Not sure if those links were up there ...</td>\n",
       "      <td>pcmasterrace</td>\n",
       "      <td>103</td>\n",
       "      <td>101 to 200</td>\n",
       "    </tr>\n",
       "    <tr>\n",
       "      <th>1</th>\n",
       "      <td>t1_cquq97y</td>\n",
       "      <td>I think its unlikely someone would kill them s...</td>\n",
       "      <td>news</td>\n",
       "      <td>163</td>\n",
       "      <td>101 to 200</td>\n",
       "    </tr>\n",
       "    <tr>\n",
       "      <th>2</th>\n",
       "      <td>t1_cr92xnl</td>\n",
       "      <td>Hoult is another one that's important.\\n\\nBut ...</td>\n",
       "      <td>movies</td>\n",
       "      <td>99</td>\n",
       "      <td>0 to 100</td>\n",
       "    </tr>\n",
       "    <tr>\n",
       "      <th>3</th>\n",
       "      <td>t1_crk6sin</td>\n",
       "      <td>Can have my opinion.\\n\\nThey're noisy and hot....</td>\n",
       "      <td>pcmasterrace</td>\n",
       "      <td>1556</td>\n",
       "      <td>501 +</td>\n",
       "    </tr>\n",
       "    <tr>\n",
       "      <th>4</th>\n",
       "      <td>t1_cr9398p</td>\n",
       "      <td>Nice! That reminds me of a more recent article...</td>\n",
       "      <td>news</td>\n",
       "      <td>252</td>\n",
       "      <td>201 to 500</td>\n",
       "    </tr>\n",
       "    <tr>\n",
       "      <th>5</th>\n",
       "      <td>t1_crb62k9</td>\n",
       "      <td>Was briefly considered a top linebacker and th...</td>\n",
       "      <td>nfl</td>\n",
       "      <td>81</td>\n",
       "      <td>0 to 100</td>\n",
       "    </tr>\n",
       "    <tr>\n",
       "      <th>6</th>\n",
       "      <td>t1_cqukf18</td>\n",
       "      <td>I'd prefer 4-5-6-4-5-6 honestly You do realize...</td>\n",
       "      <td>movies</td>\n",
       "      <td>147</td>\n",
       "      <td>101 to 200</td>\n",
       "    </tr>\n",
       "    <tr>\n",
       "      <th>7</th>\n",
       "      <td>t1_cr0v6bz</td>\n",
       "      <td>I like a corner who will get in there and tackle</td>\n",
       "      <td>nfl</td>\n",
       "      <td>49</td>\n",
       "      <td>0 to 100</td>\n",
       "    </tr>\n",
       "    <tr>\n",
       "      <th>8</th>\n",
       "      <td>t1_crdf8bg</td>\n",
       "      <td>Just any title that doesn't use gameworks, or ...</td>\n",
       "      <td>pcmasterrace</td>\n",
       "      <td>522</td>\n",
       "      <td>501 +</td>\n",
       "    </tr>\n",
       "    <tr>\n",
       "      <th>9</th>\n",
       "      <td>t1_crffx7s</td>\n",
       "      <td>Because being black skinned as a negative is a...</td>\n",
       "      <td>news</td>\n",
       "      <td>197</td>\n",
       "      <td>101 to 200</td>\n",
       "    </tr>\n",
       "  </tbody>\n",
       "</table>\n",
       "</div>"
      ],
      "text/plain": [
       "    parent_id                                               text  \\\n",
       "0  t1_crojgfu  Thanks! Not sure if those links were up there ...   \n",
       "1  t1_cquq97y  I think its unlikely someone would kill them s...   \n",
       "2  t1_cr92xnl  Hoult is another one that's important.\\n\\nBut ...   \n",
       "3  t1_crk6sin  Can have my opinion.\\n\\nThey're noisy and hot....   \n",
       "4  t1_cr9398p  Nice! That reminds me of a more recent article...   \n",
       "5  t1_crb62k9  Was briefly considered a top linebacker and th...   \n",
       "6  t1_cqukf18  I'd prefer 4-5-6-4-5-6 honestly You do realize...   \n",
       "7  t1_cr0v6bz  I like a corner who will get in there and tackle    \n",
       "8  t1_crdf8bg  Just any title that doesn't use gameworks, or ...   \n",
       "9  t1_crffx7s  Because being black skinned as a negative is a...   \n",
       "\n",
       "          topic length  size_range  \n",
       "0  pcmasterrace    103  101 to 200  \n",
       "1          news    163  101 to 200  \n",
       "2        movies     99    0 to 100  \n",
       "3  pcmasterrace   1556       501 +  \n",
       "4          news    252  201 to 500  \n",
       "5           nfl     81    0 to 100  \n",
       "6        movies    147  101 to 200  \n",
       "7           nfl     49    0 to 100  \n",
       "8  pcmasterrace    522       501 +  \n",
       "9          news    197  101 to 200  "
      ]
     },
     "execution_count": 4,
     "metadata": {},
     "output_type": "execute_result"
    }
   ],
   "source": [
    "df.head(10)"
   ]
  },
  {
   "cell_type": "markdown",
   "id": "69162d49",
   "metadata": {},
   "source": [
    "## The next block it is just an analysis on how the SIA works, Here I am just trying to get familiar with how it process the data and what sort of information the method returns, data preparation is crucial for the success of this project, so I just manually typed some random texts and verified if the results from the method were accurate enough, so I could consider if I would use or not this tool during the development of this project. The results were very good, but I could notice that it could be improved with data preprocessing."
   ]
  },
  {
   "cell_type": "code",
   "execution_count": 5,
   "id": "7bf21bf6",
   "metadata": {},
   "outputs": [],
   "source": [
    "sia = SentimentIntensityAnalyzer()"
   ]
  },
  {
   "cell_type": "code",
   "execution_count": 6,
   "id": "c0693487",
   "metadata": {},
   "outputs": [],
   "source": [
    "a = \"this is a really bad movie and I Loved it\""
   ]
  },
  {
   "cell_type": "code",
   "execution_count": 7,
   "id": "b7701b2d",
   "metadata": {},
   "outputs": [
    {
     "data": {
      "text/plain": [
       "{'neg': 0.277, 'neu': 0.438, 'pos': 0.285, 'compound': 0.0276}"
      ]
     },
     "execution_count": 7,
     "metadata": {},
     "output_type": "execute_result"
    }
   ],
   "source": [
    "sia.polarity_scores(a)"
   ]
  },
  {
   "cell_type": "markdown",
   "id": "2265093a",
   "metadata": {},
   "source": [
    "## The next cell is just how I was visualizing the data present in the dataset, the objective here was just to verify if there was enough data to work with."
   ]
  },
  {
   "cell_type": "code",
   "execution_count": 8,
   "id": "ccff701f",
   "metadata": {},
   "outputs": [
    {
     "data": {
      "text/plain": [
       "nfl              10563\n",
       "news              9488\n",
       "pcmasterrace      9185\n",
       "movies            6263\n",
       "relationships     4500\n",
       "48                   1\n",
       "Name: topic, dtype: int64"
      ]
     },
     "execution_count": 8,
     "metadata": {},
     "output_type": "execute_result"
    }
   ],
   "source": [
    "df['topic'].value_counts()"
   ]
  },
  {
   "cell_type": "markdown",
   "id": "8d75437c",
   "metadata": {},
   "source": [
    "# Feature engineering\n",
    "\n",
    "## In this section is where I start working with the dataset, I am using SIA to extract usefull information from the text column and I am creating a new colunn ' scores', The 'scores' column will later on be used to label the classes making it possible to work on a classification model."
   ]
  },
  {
   "cell_type": "code",
   "execution_count": 9,
   "id": "464e8f92",
   "metadata": {},
   "outputs": [],
   "source": [
    "df.dropna(inplace=True)"
   ]
  },
  {
   "cell_type": "code",
   "execution_count": 10,
   "id": "7a053f18",
   "metadata": {},
   "outputs": [
    {
     "data": {
      "text/plain": [
       "\"Thanks! Not sure if those links were up there before and now I'm confused whether to feel dumb or not. \""
      ]
     },
     "execution_count": 10,
     "metadata": {},
     "output_type": "execute_result"
    }
   ],
   "source": [
    "df.iloc[0]['text']"
   ]
  },
  {
   "cell_type": "code",
   "execution_count": 11,
   "id": "9f8efb78",
   "metadata": {},
   "outputs": [
    {
     "data": {
      "text/plain": [
       "{'neg': 0.0, 'neu': 0.894, 'pos': 0.106, 'compound': 0.4753}"
      ]
     },
     "execution_count": 11,
     "metadata": {},
     "output_type": "execute_result"
    }
   ],
   "source": [
    "sia.polarity_scores(df.iloc[4]['text'])"
   ]
  },
  {
   "cell_type": "code",
   "execution_count": 12,
   "id": "f0e92245",
   "metadata": {},
   "outputs": [],
   "source": [
    "df['scores'] = df['text'].apply(lambda text: sia.polarity_scores(text))"
   ]
  },
  {
   "cell_type": "code",
   "execution_count": 13,
   "id": "c240de62",
   "metadata": {},
   "outputs": [
    {
     "data": {
      "text/html": [
       "<div>\n",
       "<style scoped>\n",
       "    .dataframe tbody tr th:only-of-type {\n",
       "        vertical-align: middle;\n",
       "    }\n",
       "\n",
       "    .dataframe tbody tr th {\n",
       "        vertical-align: top;\n",
       "    }\n",
       "\n",
       "    .dataframe thead th {\n",
       "        text-align: right;\n",
       "    }\n",
       "</style>\n",
       "<table border=\"1\" class=\"dataframe\">\n",
       "  <thead>\n",
       "    <tr style=\"text-align: right;\">\n",
       "      <th></th>\n",
       "      <th>parent_id</th>\n",
       "      <th>text</th>\n",
       "      <th>topic</th>\n",
       "      <th>length</th>\n",
       "      <th>size_range</th>\n",
       "      <th>scores</th>\n",
       "    </tr>\n",
       "  </thead>\n",
       "  <tbody>\n",
       "    <tr>\n",
       "      <th>0</th>\n",
       "      <td>t1_crojgfu</td>\n",
       "      <td>Thanks! Not sure if those links were up there ...</td>\n",
       "      <td>pcmasterrace</td>\n",
       "      <td>103</td>\n",
       "      <td>101 to 200</td>\n",
       "      <td>{'neg': 0.294, 'neu': 0.598, 'pos': 0.108, 'co...</td>\n",
       "    </tr>\n",
       "    <tr>\n",
       "      <th>1</th>\n",
       "      <td>t1_cquq97y</td>\n",
       "      <td>I think its unlikely someone would kill them s...</td>\n",
       "      <td>news</td>\n",
       "      <td>163</td>\n",
       "      <td>101 to 200</td>\n",
       "      <td>{'neg': 0.144, 'neu': 0.856, 'pos': 0.0, 'comp...</td>\n",
       "    </tr>\n",
       "    <tr>\n",
       "      <th>2</th>\n",
       "      <td>t1_cr92xnl</td>\n",
       "      <td>Hoult is another one that's important.\\n\\nBut ...</td>\n",
       "      <td>movies</td>\n",
       "      <td>99</td>\n",
       "      <td>0 to 100</td>\n",
       "      <td>{'neg': 0.0, 'neu': 0.613, 'pos': 0.387, 'comp...</td>\n",
       "    </tr>\n",
       "    <tr>\n",
       "      <th>3</th>\n",
       "      <td>t1_crk6sin</td>\n",
       "      <td>Can have my opinion.\\n\\nThey're noisy and hot....</td>\n",
       "      <td>pcmasterrace</td>\n",
       "      <td>1556</td>\n",
       "      <td>501 +</td>\n",
       "      <td>{'neg': 0.084, 'neu': 0.804, 'pos': 0.113, 'co...</td>\n",
       "    </tr>\n",
       "    <tr>\n",
       "      <th>4</th>\n",
       "      <td>t1_cr9398p</td>\n",
       "      <td>Nice! That reminds me of a more recent article...</td>\n",
       "      <td>news</td>\n",
       "      <td>252</td>\n",
       "      <td>201 to 500</td>\n",
       "      <td>{'neg': 0.0, 'neu': 0.894, 'pos': 0.106, 'comp...</td>\n",
       "    </tr>\n",
       "  </tbody>\n",
       "</table>\n",
       "</div>"
      ],
      "text/plain": [
       "    parent_id                                               text  \\\n",
       "0  t1_crojgfu  Thanks! Not sure if those links were up there ...   \n",
       "1  t1_cquq97y  I think its unlikely someone would kill them s...   \n",
       "2  t1_cr92xnl  Hoult is another one that's important.\\n\\nBut ...   \n",
       "3  t1_crk6sin  Can have my opinion.\\n\\nThey're noisy and hot....   \n",
       "4  t1_cr9398p  Nice! That reminds me of a more recent article...   \n",
       "\n",
       "          topic length  size_range  \\\n",
       "0  pcmasterrace    103  101 to 200   \n",
       "1          news    163  101 to 200   \n",
       "2        movies     99    0 to 100   \n",
       "3  pcmasterrace   1556       501 +   \n",
       "4          news    252  201 to 500   \n",
       "\n",
       "                                              scores  \n",
       "0  {'neg': 0.294, 'neu': 0.598, 'pos': 0.108, 'co...  \n",
       "1  {'neg': 0.144, 'neu': 0.856, 'pos': 0.0, 'comp...  \n",
       "2  {'neg': 0.0, 'neu': 0.613, 'pos': 0.387, 'comp...  \n",
       "3  {'neg': 0.084, 'neu': 0.804, 'pos': 0.113, 'co...  \n",
       "4  {'neg': 0.0, 'neu': 0.894, 'pos': 0.106, 'comp...  "
      ]
     },
     "execution_count": 13,
     "metadata": {},
     "output_type": "execute_result"
    }
   ],
   "source": [
    "df.head()"
   ]
  },
  {
   "cell_type": "markdown",
   "id": "0e26434a",
   "metadata": {},
   "source": [
    "## By looking at the scores column in the cell above we can observe that we need to prepare the data by removing data that is not important for the project, the only thing we need in that column is the 'compound' value, so I simply applied a lambda function to process that data."
   ]
  },
  {
   "cell_type": "code",
   "execution_count": 14,
   "id": "cf4d4519",
   "metadata": {},
   "outputs": [],
   "source": [
    "df['scores'] = df['scores'].apply(lambda d:d['compound'])"
   ]
  },
  {
   "cell_type": "code",
   "execution_count": 15,
   "id": "e894e3d1",
   "metadata": {},
   "outputs": [
    {
     "data": {
      "text/html": [
       "<div>\n",
       "<style scoped>\n",
       "    .dataframe tbody tr th:only-of-type {\n",
       "        vertical-align: middle;\n",
       "    }\n",
       "\n",
       "    .dataframe tbody tr th {\n",
       "        vertical-align: top;\n",
       "    }\n",
       "\n",
       "    .dataframe thead th {\n",
       "        text-align: right;\n",
       "    }\n",
       "</style>\n",
       "<table border=\"1\" class=\"dataframe\">\n",
       "  <thead>\n",
       "    <tr style=\"text-align: right;\">\n",
       "      <th></th>\n",
       "      <th>parent_id</th>\n",
       "      <th>text</th>\n",
       "      <th>topic</th>\n",
       "      <th>length</th>\n",
       "      <th>size_range</th>\n",
       "      <th>scores</th>\n",
       "    </tr>\n",
       "  </thead>\n",
       "  <tbody>\n",
       "    <tr>\n",
       "      <th>0</th>\n",
       "      <td>t1_crojgfu</td>\n",
       "      <td>Thanks! Not sure if those links were up there ...</td>\n",
       "      <td>pcmasterrace</td>\n",
       "      <td>103</td>\n",
       "      <td>101 to 200</td>\n",
       "      <td>-0.6065</td>\n",
       "    </tr>\n",
       "    <tr>\n",
       "      <th>1</th>\n",
       "      <td>t1_cquq97y</td>\n",
       "      <td>I think its unlikely someone would kill them s...</td>\n",
       "      <td>news</td>\n",
       "      <td>163</td>\n",
       "      <td>101 to 200</td>\n",
       "      <td>-0.6908</td>\n",
       "    </tr>\n",
       "    <tr>\n",
       "      <th>2</th>\n",
       "      <td>t1_cr92xnl</td>\n",
       "      <td>Hoult is another one that's important.\\n\\nBut ...</td>\n",
       "      <td>movies</td>\n",
       "      <td>99</td>\n",
       "      <td>0 to 100</td>\n",
       "      <td>0.8020</td>\n",
       "    </tr>\n",
       "    <tr>\n",
       "      <th>3</th>\n",
       "      <td>t1_crk6sin</td>\n",
       "      <td>Can have my opinion.\\n\\nThey're noisy and hot....</td>\n",
       "      <td>pcmasterrace</td>\n",
       "      <td>1556</td>\n",
       "      <td>501 +</td>\n",
       "      <td>0.9209</td>\n",
       "    </tr>\n",
       "    <tr>\n",
       "      <th>4</th>\n",
       "      <td>t1_cr9398p</td>\n",
       "      <td>Nice! That reminds me of a more recent article...</td>\n",
       "      <td>news</td>\n",
       "      <td>252</td>\n",
       "      <td>201 to 500</td>\n",
       "      <td>0.4753</td>\n",
       "    </tr>\n",
       "    <tr>\n",
       "      <th>5</th>\n",
       "      <td>t1_crb62k9</td>\n",
       "      <td>Was briefly considered a top linebacker and th...</td>\n",
       "      <td>nfl</td>\n",
       "      <td>81</td>\n",
       "      <td>0 to 100</td>\n",
       "      <td>0.4767</td>\n",
       "    </tr>\n",
       "    <tr>\n",
       "      <th>6</th>\n",
       "      <td>t1_cqukf18</td>\n",
       "      <td>I'd prefer 4-5-6-4-5-6 honestly You do realize...</td>\n",
       "      <td>movies</td>\n",
       "      <td>147</td>\n",
       "      <td>101 to 200</td>\n",
       "      <td>0.4588</td>\n",
       "    </tr>\n",
       "    <tr>\n",
       "      <th>7</th>\n",
       "      <td>t1_cr0v6bz</td>\n",
       "      <td>I like a corner who will get in there and tackle</td>\n",
       "      <td>nfl</td>\n",
       "      <td>49</td>\n",
       "      <td>0 to 100</td>\n",
       "      <td>0.3612</td>\n",
       "    </tr>\n",
       "    <tr>\n",
       "      <th>8</th>\n",
       "      <td>t1_crdf8bg</td>\n",
       "      <td>Just any title that doesn't use gameworks, or ...</td>\n",
       "      <td>pcmasterrace</td>\n",
       "      <td>522</td>\n",
       "      <td>501 +</td>\n",
       "      <td>0.9293</td>\n",
       "    </tr>\n",
       "    <tr>\n",
       "      <th>9</th>\n",
       "      <td>t1_crffx7s</td>\n",
       "      <td>Because being black skinned as a negative is a...</td>\n",
       "      <td>news</td>\n",
       "      <td>197</td>\n",
       "      <td>101 to 200</td>\n",
       "      <td>-0.4909</td>\n",
       "    </tr>\n",
       "  </tbody>\n",
       "</table>\n",
       "</div>"
      ],
      "text/plain": [
       "    parent_id                                               text  \\\n",
       "0  t1_crojgfu  Thanks! Not sure if those links were up there ...   \n",
       "1  t1_cquq97y  I think its unlikely someone would kill them s...   \n",
       "2  t1_cr92xnl  Hoult is another one that's important.\\n\\nBut ...   \n",
       "3  t1_crk6sin  Can have my opinion.\\n\\nThey're noisy and hot....   \n",
       "4  t1_cr9398p  Nice! That reminds me of a more recent article...   \n",
       "5  t1_crb62k9  Was briefly considered a top linebacker and th...   \n",
       "6  t1_cqukf18  I'd prefer 4-5-6-4-5-6 honestly You do realize...   \n",
       "7  t1_cr0v6bz  I like a corner who will get in there and tackle    \n",
       "8  t1_crdf8bg  Just any title that doesn't use gameworks, or ...   \n",
       "9  t1_crffx7s  Because being black skinned as a negative is a...   \n",
       "\n",
       "          topic length  size_range  scores  \n",
       "0  pcmasterrace    103  101 to 200 -0.6065  \n",
       "1          news    163  101 to 200 -0.6908  \n",
       "2        movies     99    0 to 100  0.8020  \n",
       "3  pcmasterrace   1556       501 +  0.9209  \n",
       "4          news    252  201 to 500  0.4753  \n",
       "5           nfl     81    0 to 100  0.4767  \n",
       "6        movies    147  101 to 200  0.4588  \n",
       "7           nfl     49    0 to 100  0.3612  \n",
       "8  pcmasterrace    522       501 +  0.9293  \n",
       "9          news    197  101 to 200 -0.4909  "
      ]
     },
     "execution_count": 15,
     "metadata": {},
     "output_type": "execute_result"
    }
   ],
   "source": [
    "df.head(10)"
   ]
  },
  {
   "cell_type": "markdown",
   "id": "b7ed72cd",
   "metadata": {},
   "source": [
    "\n",
    "# Data Preparation\n",
    "\n",
    "## Preprocessing the data is crucial for this project, probably one of the most important aspects when working with sentiment analysis, in the method below apply some techniques that would preprocess the text, that will drastically improve the model ability to classify and perform sentiment analysis on texts it has not seen before, The method is quite self explanatory and it is commented on how it is preprocessing the data, but it is worth mentioning some import techniques here such as the negation handling, I though it was a very good approach, words like 'not', 'never' and 'no' are present in the stopwords list, so they would be removed after preprocessing the text, the negation handling would keep these words to improve context compreesion consequently improving the model ability to classify sentiments expressed on the text.\n",
    "## Lemmatization is another interesting technique, it reduces the words to their base form. This is very useful when dealing with different forms of words, such as verb conjugations or plural nouns, allowing for more accurate analysis or comparison of words in text data.\n",
    "## I also perform a basic contractions handling, this also improve the analysis accuracy on the text, but I just did a basic handling for the most common contractions, this could be improved by looking up for a list of all contractions and adding them to the dictionary.\n",
    "## Reddit allow users to add http links on their comments, and this http links affect negatively on sentiment analysis, so all links are removed from the text data.\n",
    "## Special characters were also removed as they can affect the interpretation of the text data, although during my research I found that some people argue that the SIA is capable of interpreting some special characters and that they would enforce the context analisys performed by the method, my tests were inconclusive about this, so I decided to remove the special characters to ensure that the data is clean and reliable.\n",
    "## There was an attempt to preprocess text with repeated characters e.g('Thaaanks','WoooW', 'soooo goooood') and reduce those words for their original form, but that was very challeging, time consuming and I have no experience to evaluate if the improvement this would be bring to the text analysis would be worth the time it would required to make it work."
   ]
  },
  {
   "cell_type": "code",
   "execution_count": 16,
   "id": "ecb72c2d",
   "metadata": {},
   "outputs": [],
   "source": [
    "def preprocess_text(text):\n",
    "    # Convert text to lowercase\n",
    "    text = text.lower()\n",
    "    \n",
    "    # Expand contractions\n",
    "    contractions = {\n",
    "        \"don't\": \"do not\",\n",
    "        \"can't\": \"can not\",\n",
    "        # Add more contractions as needed\n",
    "    }\n",
    "    text = ' '.join(contractions.get(word, word) for word in text.split())\n",
    "    \n",
    "    # Remove special characters and URLs\n",
    "    text = ' '.join(word for word in text.split() if not word.startswith('http'))\n",
    "    text = ''.join(char for char in text if char not in string.punctuation)\n",
    "    \n",
    "    \n",
    "    # Lemmatization\n",
    "    lemmatizer = WordNetLemmatizer()\n",
    "    tokens = nltk.word_tokenize(text)\n",
    "    tokens = [lemmatizer.lemmatize(token) for token in tokens]\n",
    "    \n",
    "    # Handle negation\n",
    "    negation_words = ['not', 'never', 'no']\n",
    "    for i in range(len(tokens)):\n",
    "        if tokens[i] in negation_words and i+1 < len(tokens):\n",
    "            tokens[i+1] = 'NOT_' + tokens[i+1]\n",
    "    \n",
    "    # Remove stopwords\n",
    "    stop_words = set(stopwords.words('english'))\n",
    "    tokens = [token for token in tokens if token not in stop_words]\n",
    "    \n",
    "    # Join the tokens back into a single string\n",
    "    processed_text = ' '.join(tokens)\n",
    "    \n",
    "    return processed_text"
   ]
  },
  {
   "cell_type": "markdown",
   "id": "37be8234",
   "metadata": {},
   "source": [
    "## In this section I am just evaluating the results of the preprocessing method, I simply extract a text from the dataset, then I modified it by adding some text that the preprocessing method could 'fix' then I passed it as input to the SIA, by doing that I could observe the results of the original text and the preprocessed text to verify the effectiveness of the preprocessing method, I could conclude that the method was effective and there was a significant improvement on the accuracy."
   ]
  },
  {
   "cell_type": "code",
   "execution_count": 17,
   "id": "d1dd3ce7",
   "metadata": {},
   "outputs": [],
   "source": [
    "text = \"Thaaaaanks! I see you next time, Not sure if those links were up there before and now I'm confused whether to feel dumb or not. \""
   ]
  },
  {
   "cell_type": "code",
   "execution_count": 18,
   "id": "017dcb01",
   "metadata": {},
   "outputs": [
    {
     "data": {
      "text/plain": [
       "'thaaaaanks see next time NOT_sure link im confused whether feel dumb'"
      ]
     },
     "execution_count": 18,
     "metadata": {},
     "output_type": "execute_result"
    }
   ],
   "source": [
    "preprocess_text(text)"
   ]
  },
  {
   "cell_type": "code",
   "execution_count": 19,
   "id": "c8925314",
   "metadata": {},
   "outputs": [
    {
     "data": {
      "text/plain": [
       "{'neg': 0.272, 'neu': 0.728, 'pos': 0.0, 'compound': -0.7817}"
      ]
     },
     "execution_count": 19,
     "metadata": {},
     "output_type": "execute_result"
    }
   ],
   "source": [
    "sia.polarity_scores(text)"
   ]
  },
  {
   "cell_type": "markdown",
   "id": "1cd2ad1d",
   "metadata": {},
   "source": [
    "## Here is where I am applying the data preparation to the dataset and generating the labels for the observations"
   ]
  },
  {
   "cell_type": "code",
   "execution_count": 20,
   "id": "f051570a",
   "metadata": {},
   "outputs": [],
   "source": [
    "sia = SentimentIntensityAnalyzer()\n",
    "df['processed_text'] = df['text'].apply(preprocess_text)\n",
    "df['scores'] = df['processed_text'].apply(lambda text: sia.polarity_scores(text))\n",
    "\n",
    "# Determine sentiment label based on the compound score\n",
    "df['label'] = df['scores'].apply(lambda scores: 'positive' if scores['compound'] >= 0.05\n",
    "                                           else 'negative' if scores['compound'] <= -0.05\n",
    "                                           else 'neutral')\n",
    "\n",
    "\n"
   ]
  },
  {
   "cell_type": "code",
   "execution_count": 21,
   "id": "5330c5df",
   "metadata": {},
   "outputs": [
    {
     "data": {
      "text/html": [
       "<div>\n",
       "<style scoped>\n",
       "    .dataframe tbody tr th:only-of-type {\n",
       "        vertical-align: middle;\n",
       "    }\n",
       "\n",
       "    .dataframe tbody tr th {\n",
       "        vertical-align: top;\n",
       "    }\n",
       "\n",
       "    .dataframe thead th {\n",
       "        text-align: right;\n",
       "    }\n",
       "</style>\n",
       "<table border=\"1\" class=\"dataframe\">\n",
       "  <thead>\n",
       "    <tr style=\"text-align: right;\">\n",
       "      <th></th>\n",
       "      <th>parent_id</th>\n",
       "      <th>text</th>\n",
       "      <th>topic</th>\n",
       "      <th>length</th>\n",
       "      <th>size_range</th>\n",
       "      <th>scores</th>\n",
       "      <th>processed_text</th>\n",
       "      <th>label</th>\n",
       "    </tr>\n",
       "  </thead>\n",
       "  <tbody>\n",
       "    <tr>\n",
       "      <th>0</th>\n",
       "      <td>t1_crojgfu</td>\n",
       "      <td>Thanks! Not sure if those links were up there ...</td>\n",
       "      <td>pcmasterrace</td>\n",
       "      <td>103</td>\n",
       "      <td>101 to 200</td>\n",
       "      <td>{'neg': 0.415, 'neu': 0.37, 'pos': 0.215, 'com...</td>\n",
       "      <td>thanks NOT_sure link im confused whether feel ...</td>\n",
       "      <td>negative</td>\n",
       "    </tr>\n",
       "    <tr>\n",
       "      <th>1</th>\n",
       "      <td>t1_cquq97y</td>\n",
       "      <td>I think its unlikely someone would kill them s...</td>\n",
       "      <td>news</td>\n",
       "      <td>163</td>\n",
       "      <td>101 to 200</td>\n",
       "      <td>{'neg': 0.239, 'neu': 0.761, 'pos': 0.0, 'comp...</td>\n",
       "      <td>think unlikely someone would kill self blunt f...</td>\n",
       "      <td>negative</td>\n",
       "    </tr>\n",
       "    <tr>\n",
       "      <th>2</th>\n",
       "      <td>t1_cr92xnl</td>\n",
       "      <td>Hoult is another one that's important.\\n\\nBut ...</td>\n",
       "      <td>movies</td>\n",
       "      <td>99</td>\n",
       "      <td>0 to 100</td>\n",
       "      <td>{'neg': 0.0, 'neu': 0.462, 'pos': 0.538, 'comp...</td>\n",
       "      <td>hoult another one thats important fassbender m...</td>\n",
       "      <td>positive</td>\n",
       "    </tr>\n",
       "    <tr>\n",
       "      <th>3</th>\n",
       "      <td>t1_crk6sin</td>\n",
       "      <td>Can have my opinion.\\n\\nThey're noisy and hot....</td>\n",
       "      <td>pcmasterrace</td>\n",
       "      <td>1556</td>\n",
       "      <td>501 +</td>\n",
       "      <td>{'neg': 0.083, 'neu': 0.731, 'pos': 0.185, 'co...</td>\n",
       "      <td>opinion theyre noisy hot thats issue shit driv...</td>\n",
       "      <td>positive</td>\n",
       "    </tr>\n",
       "    <tr>\n",
       "      <th>4</th>\n",
       "      <td>t1_cr9398p</td>\n",
       "      <td>Nice! That reminds me of a more recent article...</td>\n",
       "      <td>news</td>\n",
       "      <td>252</td>\n",
       "      <td>201 to 500</td>\n",
       "      <td>{'neg': 0.0, 'neu': 0.833, 'pos': 0.167, 'comp...</td>\n",
       "      <td>nice reminds recent article doctoral student v...</td>\n",
       "      <td>positive</td>\n",
       "    </tr>\n",
       "  </tbody>\n",
       "</table>\n",
       "</div>"
      ],
      "text/plain": [
       "    parent_id                                               text  \\\n",
       "0  t1_crojgfu  Thanks! Not sure if those links were up there ...   \n",
       "1  t1_cquq97y  I think its unlikely someone would kill them s...   \n",
       "2  t1_cr92xnl  Hoult is another one that's important.\\n\\nBut ...   \n",
       "3  t1_crk6sin  Can have my opinion.\\n\\nThey're noisy and hot....   \n",
       "4  t1_cr9398p  Nice! That reminds me of a more recent article...   \n",
       "\n",
       "          topic length  size_range  \\\n",
       "0  pcmasterrace    103  101 to 200   \n",
       "1          news    163  101 to 200   \n",
       "2        movies     99    0 to 100   \n",
       "3  pcmasterrace   1556       501 +   \n",
       "4          news    252  201 to 500   \n",
       "\n",
       "                                              scores  \\\n",
       "0  {'neg': 0.415, 'neu': 0.37, 'pos': 0.215, 'com...   \n",
       "1  {'neg': 0.239, 'neu': 0.761, 'pos': 0.0, 'comp...   \n",
       "2  {'neg': 0.0, 'neu': 0.462, 'pos': 0.538, 'comp...   \n",
       "3  {'neg': 0.083, 'neu': 0.731, 'pos': 0.185, 'co...   \n",
       "4  {'neg': 0.0, 'neu': 0.833, 'pos': 0.167, 'comp...   \n",
       "\n",
       "                                      processed_text     label  \n",
       "0  thanks NOT_sure link im confused whether feel ...  negative  \n",
       "1  think unlikely someone would kill self blunt f...  negative  \n",
       "2  hoult another one thats important fassbender m...  positive  \n",
       "3  opinion theyre noisy hot thats issue shit driv...  positive  \n",
       "4  nice reminds recent article doctoral student v...  positive  "
      ]
     },
     "execution_count": 21,
     "metadata": {},
     "output_type": "execute_result"
    }
   ],
   "source": [
    "df.head(5)"
   ]
  },
  {
   "cell_type": "markdown",
   "id": "bce558c3",
   "metadata": {},
   "source": [
    "## After adding all the information required I started removing the unnecessary data, I did not remove the original text so I could compare with the processed text and look for any errors in the preprocessing method, I could observe that some changes are still needed, but I do not have the time to work on the preprocessing method and I believe the results are good enough to progress to the next stage."
   ]
  },
  {
   "cell_type": "code",
   "execution_count": 22,
   "id": "508cd9e2",
   "metadata": {},
   "outputs": [],
   "source": [
    "df = df.drop(['parent_id','topic','length','size_range','scores'], axis=1)"
   ]
  },
  {
   "cell_type": "code",
   "execution_count": 23,
   "id": "5cb4f7bf",
   "metadata": {},
   "outputs": [
    {
     "data": {
      "text/html": [
       "<div>\n",
       "<style scoped>\n",
       "    .dataframe tbody tr th:only-of-type {\n",
       "        vertical-align: middle;\n",
       "    }\n",
       "\n",
       "    .dataframe tbody tr th {\n",
       "        vertical-align: top;\n",
       "    }\n",
       "\n",
       "    .dataframe thead th {\n",
       "        text-align: right;\n",
       "    }\n",
       "</style>\n",
       "<table border=\"1\" class=\"dataframe\">\n",
       "  <thead>\n",
       "    <tr style=\"text-align: right;\">\n",
       "      <th></th>\n",
       "      <th>text</th>\n",
       "      <th>processed_text</th>\n",
       "      <th>label</th>\n",
       "    </tr>\n",
       "  </thead>\n",
       "  <tbody>\n",
       "    <tr>\n",
       "      <th>0</th>\n",
       "      <td>Thanks! Not sure if those links were up there ...</td>\n",
       "      <td>thanks NOT_sure link im confused whether feel ...</td>\n",
       "      <td>negative</td>\n",
       "    </tr>\n",
       "    <tr>\n",
       "      <th>1</th>\n",
       "      <td>I think its unlikely someone would kill them s...</td>\n",
       "      <td>think unlikely someone would kill self blunt f...</td>\n",
       "      <td>negative</td>\n",
       "    </tr>\n",
       "    <tr>\n",
       "      <th>2</th>\n",
       "      <td>Hoult is another one that's important.\\n\\nBut ...</td>\n",
       "      <td>hoult another one thats important fassbender m...</td>\n",
       "      <td>positive</td>\n",
       "    </tr>\n",
       "    <tr>\n",
       "      <th>3</th>\n",
       "      <td>Can have my opinion.\\n\\nThey're noisy and hot....</td>\n",
       "      <td>opinion theyre noisy hot thats issue shit driv...</td>\n",
       "      <td>positive</td>\n",
       "    </tr>\n",
       "    <tr>\n",
       "      <th>4</th>\n",
       "      <td>Nice! That reminds me of a more recent article...</td>\n",
       "      <td>nice reminds recent article doctoral student v...</td>\n",
       "      <td>positive</td>\n",
       "    </tr>\n",
       "  </tbody>\n",
       "</table>\n",
       "</div>"
      ],
      "text/plain": [
       "                                                text  \\\n",
       "0  Thanks! Not sure if those links were up there ...   \n",
       "1  I think its unlikely someone would kill them s...   \n",
       "2  Hoult is another one that's important.\\n\\nBut ...   \n",
       "3  Can have my opinion.\\n\\nThey're noisy and hot....   \n",
       "4  Nice! That reminds me of a more recent article...   \n",
       "\n",
       "                                      processed_text     label  \n",
       "0  thanks NOT_sure link im confused whether feel ...  negative  \n",
       "1  think unlikely someone would kill self blunt f...  negative  \n",
       "2  hoult another one thats important fassbender m...  positive  \n",
       "3  opinion theyre noisy hot thats issue shit driv...  positive  \n",
       "4  nice reminds recent article doctoral student v...  positive  "
      ]
     },
     "execution_count": 23,
     "metadata": {},
     "output_type": "execute_result"
    }
   ],
   "source": [
    "df.head()"
   ]
  },
  {
   "cell_type": "markdown",
   "id": "0e7939bb",
   "metadata": {},
   "source": [
    "## Here I am making analysis if the data is well distributed between the classes, I could observe that there is an inbalance in the dataset."
   ]
  },
  {
   "cell_type": "code",
   "execution_count": 24,
   "id": "dbedd31c",
   "metadata": {},
   "outputs": [],
   "source": [
    "# Count the occurrences of each sentiment label\n",
    "label_counts = df['label'].value_counts()"
   ]
  },
  {
   "cell_type": "code",
   "execution_count": 25,
   "id": "6ebf5a3a",
   "metadata": {},
   "outputs": [
    {
     "name": "stdout",
     "output_type": "stream",
     "text": [
      "positive    20090\n",
      "negative    11101\n",
      "neutral      7255\n",
      "Name: label, dtype: int64\n"
     ]
    }
   ],
   "source": [
    "print(label_counts)"
   ]
  },
  {
   "cell_type": "code",
   "execution_count": 26,
   "id": "38fc6514",
   "metadata": {},
   "outputs": [
    {
     "data": {
      "text/plain": [
       "(3,)"
      ]
     },
     "execution_count": 26,
     "metadata": {},
     "output_type": "execute_result"
    }
   ],
   "source": [
    "label_counts.shape"
   ]
  },
  {
   "cell_type": "code",
   "execution_count": 27,
   "id": "894c33f9",
   "metadata": {
    "scrolled": true
   },
   "outputs": [],
   "source": [
    "labels = label_counts.index\n",
    "counts = label_counts.values"
   ]
  },
  {
   "cell_type": "code",
   "execution_count": 28,
   "id": "4946e7a3",
   "metadata": {},
   "outputs": [
    {
     "data": {
      "image/png": "[encoded data removed]",
      "text/plain": [
       "<Figure size 640x480 with 1 Axes>"
      ]
     },
     "metadata": {},
     "output_type": "display_data"
    }
   ],
   "source": [
    "# Plotting\n",
    "plt.bar(labels, counts)\n",
    "plt.xlabel('Label')\n",
    "plt.ylabel('Count')\n",
    "plt.title('Frequency')\n",
    "plt.show()"
   ]
  },
  {
   "cell_type": "markdown",
   "id": "457f582b",
   "metadata": {},
   "source": [
    "## Preparing the 'final' dataset for training"
   ]
  },
  {
   "cell_type": "code",
   "execution_count": 29,
   "id": "6240f92c",
   "metadata": {},
   "outputs": [],
   "source": [
    "dataset = pd.DataFrame({\n",
    "    'text': df['processed_text'],\n",
    "    'label': df['label']\n",
    "})"
   ]
  },
  {
   "cell_type": "code",
   "execution_count": 30,
   "id": "6fd3a54d",
   "metadata": {
    "scrolled": true
   },
   "outputs": [
    {
     "data": {
      "text/html": [
       "<div>\n",
       "<style scoped>\n",
       "    .dataframe tbody tr th:only-of-type {\n",
       "        vertical-align: middle;\n",
       "    }\n",
       "\n",
       "    .dataframe tbody tr th {\n",
       "        vertical-align: top;\n",
       "    }\n",
       "\n",
       "    .dataframe thead th {\n",
       "        text-align: right;\n",
       "    }\n",
       "</style>\n",
       "<table border=\"1\" class=\"dataframe\">\n",
       "  <thead>\n",
       "    <tr style=\"text-align: right;\">\n",
       "      <th></th>\n",
       "      <th>text</th>\n",
       "      <th>label</th>\n",
       "    </tr>\n",
       "  </thead>\n",
       "  <tbody>\n",
       "    <tr>\n",
       "      <th>0</th>\n",
       "      <td>thanks NOT_sure link im confused whether feel ...</td>\n",
       "      <td>negative</td>\n",
       "    </tr>\n",
       "    <tr>\n",
       "      <th>1</th>\n",
       "      <td>think unlikely someone would kill self blunt f...</td>\n",
       "      <td>negative</td>\n",
       "    </tr>\n",
       "    <tr>\n",
       "      <th>2</th>\n",
       "      <td>hoult another one thats important fassbender m...</td>\n",
       "      <td>positive</td>\n",
       "    </tr>\n",
       "    <tr>\n",
       "      <th>3</th>\n",
       "      <td>opinion theyre noisy hot thats issue shit driv...</td>\n",
       "      <td>positive</td>\n",
       "    </tr>\n",
       "    <tr>\n",
       "      <th>4</th>\n",
       "      <td>nice reminds recent article doctoral student v...</td>\n",
       "      <td>positive</td>\n",
       "    </tr>\n",
       "  </tbody>\n",
       "</table>\n",
       "</div>"
      ],
      "text/plain": [
       "                                                text     label\n",
       "0  thanks NOT_sure link im confused whether feel ...  negative\n",
       "1  think unlikely someone would kill self blunt f...  negative\n",
       "2  hoult another one thats important fassbender m...  positive\n",
       "3  opinion theyre noisy hot thats issue shit driv...  positive\n",
       "4  nice reminds recent article doctoral student v...  positive"
      ]
     },
     "execution_count": 30,
     "metadata": {},
     "output_type": "execute_result"
    }
   ],
   "source": [
    "dataset.head()"
   ]
  },
  {
   "cell_type": "markdown",
   "id": "3fdf967f",
   "metadata": {},
   "source": [
    "## By looking at the visualizations above, we can conclude that we can balance the data by taking ten thousand samples for each label, knowing that the 'Neutral' label has less than seven thousand observations, we could address the issue by applying data augmentation using synthetic data.\n",
    "\n",
    "## The reason I am balancing the data is so that the model have a fairly well distributed amount of samples, it is important having a balanced dataset so the model is able to generalize and classify well all classes it is being trained on."
   ]
  },
  {
   "cell_type": "code",
   "execution_count": 31,
   "id": "1523b971",
   "metadata": {},
   "outputs": [],
   "source": [
    "df_Positive = dataset[dataset['label'] == 'positive'][0:10000]\n",
    "df_Neutral = dataset[dataset['label'] == 'neutral']\n",
    "df_Negative = dataset[dataset['label'] == 'negative'][0:10000]"
   ]
  },
  {
   "cell_type": "code",
   "execution_count": 32,
   "id": "e05e8c25",
   "metadata": {},
   "outputs": [],
   "source": [
    "df_Neutral_over = df_Neutral.sample(10000, replace=True)\n",
    "df = pd.concat([df_Positive, df_Neutral_over, df_Negative], axis=0)"
   ]
  },
  {
   "cell_type": "code",
   "execution_count": 48,
   "id": "9a039ed6",
   "metadata": {},
   "outputs": [
    {
     "data": {
      "text/plain": [
       "(30000, 2)"
      ]
     },
     "execution_count": 48,
     "metadata": {},
     "output_type": "execute_result"
    }
   ],
   "source": [
    "df.shape"
   ]
  },
  {
   "cell_type": "code",
   "execution_count": 34,
   "id": "998c98b2",
   "metadata": {},
   "outputs": [],
   "source": [
    "# Count the occurrences of each sentiment label\n",
    "label_counts = df['label'].value_counts()\n",
    "labels = label_counts.index\n",
    "counts = label_counts.values"
   ]
  },
  {
   "cell_type": "code",
   "execution_count": 35,
   "id": "0c0d0ad5",
   "metadata": {},
   "outputs": [
    {
     "data": {
      "image/png": "[encoded data removed]",
      "text/plain": [
       "<Figure size 640x480 with 1 Axes>"
      ]
     },
     "metadata": {},
     "output_type": "display_data"
    }
   ],
   "source": [
    "# Plotting\n",
    "plt.bar(labels, counts)\n",
    "plt.xlabel('Label')\n",
    "plt.ylabel('Count')\n",
    "plt.title('Frequency')\n",
    "plt.show()"
   ]
  },
  {
   "cell_type": "markdown",
   "id": "9e1f8c7d",
   "metadata": {},
   "source": [
    "## In this dataset we have a fair amount of data, there are some factors that are important when splitting the dataset into the training/validation sets, that could affect the model if the data is not well distributed, causing overfitting, common 'distribution ratios' for the dataset ranges from 80/20 , 70/30, 60/40, considering the shape of this dataset I believe that the 80/20 ratio is a very good starting point."
   ]
  },
  {
   "cell_type": "code",
   "execution_count": 36,
   "id": "18a0d7ac",
   "metadata": {},
   "outputs": [],
   "source": [
    "# Split the dataset into training and testing sets\n",
    "X_train, X_test, y_train, y_test = train_test_split(df['text'], df['label'], test_size=0.2, random_state=42)\n",
    "\n",
    "# Create TF-IDF vectorizer\n",
    "vectorizer = TfidfVectorizer()\n",
    "\n",
    "# Fit and transform the training data\n",
    "X_train_vectors = vectorizer.fit_transform(X_train)\n",
    "\n",
    "# Transform the testing data\n",
    "X_test_vectors = vectorizer.transform(X_test)"
   ]
  },
  {
   "cell_type": "markdown",
   "id": "df3a4eb3",
   "metadata": {},
   "source": [
    "## The first model I trained was a Bayes classifier, bayes classifiers performs very well with text data and they are really fast for text processing tasks, that is the reason I chose this model,the second model for this project is the Random Forest Classifier, I will compare and evaluate the results from both models."
   ]
  },
  {
   "cell_type": "code",
   "execution_count": 37,
   "id": "e70315ff",
   "metadata": {},
   "outputs": [
    {
     "data": {
      "text/html": [
       "<style>#sk-container-id-1 {color: black;background-color: white;}#sk-container-id-1 pre{padding: 0;}#sk-container-id-1 div.sk-toggleable {background-color: white;}#sk-container-id-1 label.sk-toggleable__label {cursor: pointer;display: block;width: 100%;margin-bottom: 0;padding: 0.3em;box-sizing: border-box;text-align: center;}#sk-container-id-1 label.sk-toggleable__label-arrow:before {content: \"▸\";float: left;margin-right: 0.25em;color: #696969;}#sk-container-id-1 label.sk-toggleable__label-arrow:hover:before {color: black;}#sk-container-id-1 div.sk-estimator:hover label.sk-toggleable__label-arrow:before {color: black;}#sk-container-id-1 div.sk-toggleable__content {max-height: 0;max-width: 0;overflow: hidden;text-align: left;background-color: #f0f8ff;}#sk-container-id-1 div.sk-toggleable__content pre {margin: 0.2em;color: black;border-radius: 0.25em;background-color: #f0f8ff;}#sk-container-id-1 input.sk-toggleable__control:checked~div.sk-toggleable__content {max-height: 200px;max-width: 100%;overflow: auto;}#sk-container-id-1 input.sk-toggleable__control:checked~label.sk-toggleable__label-arrow:before {content: \"▾\";}#sk-container-id-1 div.sk-estimator input.sk-toggleable__control:checked~label.sk-toggleable__label {background-color: #d4ebff;}#sk-container-id-1 div.sk-label input.sk-toggleable__control:checked~label.sk-toggleable__label {background-color: #d4ebff;}#sk-container-id-1 input.sk-hidden--visually {border: 0;clip: rect(1px 1px 1px 1px);clip: rect(1px, 1px, 1px, 1px);height: 1px;margin: -1px;overflow: hidden;padding: 0;position: absolute;width: 1px;}#sk-container-id-1 div.sk-estimator {font-family: monospace;background-color: #f0f8ff;border: 1px dotted black;border-radius: 0.25em;box-sizing: border-box;margin-bottom: 0.5em;}#sk-container-id-1 div.sk-estimator:hover {background-color: #d4ebff;}#sk-container-id-1 div.sk-parallel-item::after {content: \"\";width: 100%;border-bottom: 1px solid gray;flex-grow: 1;}#sk-container-id-1 div.sk-label:hover label.sk-toggleable__label {background-color: #d4ebff;}#sk-container-id-1 div.sk-serial::before {content: \"\";position: absolute;border-left: 1px solid gray;box-sizing: border-box;top: 0;bottom: 0;left: 50%;z-index: 0;}#sk-container-id-1 div.sk-serial {display: flex;flex-direction: column;align-items: center;background-color: white;padding-right: 0.2em;padding-left: 0.2em;position: relative;}#sk-container-id-1 div.sk-item {position: relative;z-index: 1;}#sk-container-id-1 div.sk-parallel {display: flex;align-items: stretch;justify-content: center;background-color: white;position: relative;}#sk-container-id-1 div.sk-item::before, #sk-container-id-1 div.sk-parallel-item::before {content: \"\";position: absolute;border-left: 1px solid gray;box-sizing: border-box;top: 0;bottom: 0;left: 50%;z-index: -1;}#sk-container-id-1 div.sk-parallel-item {display: flex;flex-direction: column;z-index: 1;position: relative;background-color: white;}#sk-container-id-1 div.sk-parallel-item:first-child::after {align-self: flex-end;width: 50%;}#sk-container-id-1 div.sk-parallel-item:last-child::after {align-self: flex-start;width: 50%;}#sk-container-id-1 div.sk-parallel-item:only-child::after {width: 0;}#sk-container-id-1 div.sk-dashed-wrapped {border: 1px dashed gray;margin: 0 0.4em 0.5em 0.4em;box-sizing: border-box;padding-bottom: 0.4em;background-color: white;}#sk-container-id-1 div.sk-label label {font-family: monospace;font-weight: bold;display: inline-block;line-height: 1.2em;}#sk-container-id-1 div.sk-label-container {text-align: center;}#sk-container-id-1 div.sk-container {/* jupyter's `normalize.less` sets `[hidden] { display: none; }` but bootstrap.min.css set `[hidden] { display: none !important; }` so we also need the `!important` here to be able to override the default hidden behavior on the sphinx rendered scikit-learn.org. See: https://github.com/scikit-learn/scikit-learn/issues/21755 */display: inline-block !important;position: relative;}#sk-container-id-1 div.sk-text-repr-fallback {display: none;}</style><div id=\"sk-container-id-1\" class=\"sk-top-container\"><div class=\"sk-text-repr-fallback\"><pre>MultinomialNB()</pre><b>In a Jupyter environment, please rerun this cell to show the HTML representation or trust the notebook. <br />On GitHub, the HTML representation is unable to render, please try loading this page with nbviewer.org.</b></div><div class=\"sk-container\" hidden><div class=\"sk-item\"><div class=\"sk-estimator sk-toggleable\"><input class=\"sk-toggleable__control sk-hidden--visually\" id=\"sk-estimator-id-1\" type=\"checkbox\" checked><label for=\"sk-estimator-id-1\" class=\"sk-toggleable__label sk-toggleable__label-arrow\">MultinomialNB</label><div class=\"sk-toggleable__content\"><pre>MultinomialNB()</pre></div></div></div></div></div>"
      ],
      "text/plain": [
       "MultinomialNB()"
      ]
     },
     "execution_count": 37,
     "metadata": {},
     "output_type": "execute_result"
    }
   ],
   "source": [
    "# Train a Naive Bayes classifier\n",
    "nb_classifier = MultinomialNB()\n",
    "nb_classifier.fit(X_train_vectors, y_train)"
   ]
  },
  {
   "cell_type": "code",
   "execution_count": 49,
   "id": "d9e5b451",
   "metadata": {},
   "outputs": [],
   "source": [
    "# Predict on the testing data\n",
    "y_pred = nb_classifier.predict(X_test_vectors)"
   ]
  },
  {
   "cell_type": "markdown",
   "id": "fad41b8c",
   "metadata": {},
   "source": [
    "## The overall accuracy was 68% which was not bad, but considering that this is the first run and the model was trained with the default parameters it is not a bad result.\n",
    "\n",
    "## The model has a reasonably good precision, recall, and F1-scores for the negative and positive classes. The neutral class, has a lower recall and F1-score, it means that the model struggles more with correctly identifying observations of the neutral class."
   ]
  },
  {
   "cell_type": "code",
   "execution_count": 50,
   "id": "411b687b",
   "metadata": {},
   "outputs": [
    {
     "name": "stdout",
     "output_type": "stream",
     "text": [
      "              precision    recall  f1-score   support\n",
      "\n",
      "    negative       0.65      0.75      0.69      2002\n",
      "     neutral       0.98      0.48      0.64      1996\n",
      "    positive       0.60      0.80      0.69      2002\n",
      "\n",
      "    accuracy                           0.68      6000\n",
      "   macro avg       0.74      0.68      0.68      6000\n",
      "weighted avg       0.74      0.68      0.68      6000\n",
      "\n"
     ]
    }
   ],
   "source": [
    "# Evaluate the model\n",
    "print(classification_report(y_test, y_pred))"
   ]
  },
  {
   "cell_type": "code",
   "execution_count": 51,
   "id": "fcae1182",
   "metadata": {},
   "outputs": [],
   "source": [
    "from sklearn.ensemble import RandomForestClassifier\n",
    "from sklearn.feature_extraction.text import TfidfVectorizer\n",
    "from sklearn.model_selection import train_test_split\n",
    "from sklearn.metrics import classification_report"
   ]
  },
  {
   "cell_type": "markdown",
   "id": "0e38456d",
   "metadata": {},
   "source": [
    "## The random forest classifier has an overall accuracy of 80%, showing superior results when compared to the naive bayes classifier, the model performed a lot better at identifying observations of the neutral class, and slightly better identifying the positive and negative classes"
   ]
  },
  {
   "cell_type": "markdown",
   "id": "9a439704",
   "metadata": {},
   "source": [
    "# Running the next Cell will train the model again which should not take too long, but there is a saved trained mode which you can load in the cells below."
   ]
  },
  {
   "cell_type": "code",
   "execution_count": 52,
   "id": "ae97acb4",
   "metadata": {},
   "outputs": [
    {
     "name": "stdout",
     "output_type": "stream",
     "text": [
      "              precision    recall  f1-score   support\n",
      "\n",
      "    negative       0.77      0.65      0.71      2002\n",
      "     neutral       0.85      0.96      0.90      1996\n",
      "    positive       0.75      0.77      0.76      2002\n",
      "\n",
      "    accuracy                           0.79      6000\n",
      "   macro avg       0.79      0.79      0.79      6000\n",
      "weighted avg       0.79      0.79      0.79      6000\n",
      "\n"
     ]
    }
   ],
   "source": [
    "# Convert text data to numerical feature vectors using TF-IDF vectorization\n",
    "vectorizer = TfidfVectorizer()\n",
    "X_train_vectors = vectorizer.fit_transform(X_train)\n",
    "X_test_vectors = vectorizer.transform(X_test)\n",
    "\n",
    "# Train a Random Forest classifier\n",
    "rf_classifier = RandomForestClassifier(n_estimators=100, random_state=42)\n",
    "rf_classifier.fit(X_train_vectors, y_train)\n",
    "\n",
    "# Make predictions on the test set\n",
    "y_pred = rf_classifier.predict(X_test_vectors)\n",
    "\n",
    "# Evaluate the model\n",
    "report = classification_report(y_test, y_pred)\n",
    "print(report)"
   ]
  },
  {
   "cell_type": "code",
   "execution_count": 2,
   "id": "823fd855",
   "metadata": {},
   "outputs": [],
   "source": []
  },
  {
   "cell_type": "markdown",
   "id": "1f13d4bb",
   "metadata": {},
   "source": [
    "### save / load the model"
   ]
  },
  {
   "cell_type": "code",
   "execution_count": 54,
   "id": "87fc8186",
   "metadata": {},
   "outputs": [
    {
     "data": {
      "text/plain": [
       "['rf_model_v2.pkl']"
      ]
     },
     "execution_count": 54,
     "metadata": {},
     "output_type": "execute_result"
    }
   ],
   "source": [
    "joblib.dump(rf_classifier, 'rf_model_v2.pkl')"
   ]
  },
  {
   "cell_type": "code",
   "execution_count": 55,
   "id": "e38f81e9",
   "metadata": {},
   "outputs": [],
   "source": [
    "rf_classifier = load('rf_model_v2.pkl')"
   ]
  },
  {
   "cell_type": "markdown",
   "id": "3e18b97d",
   "metadata": {},
   "source": [
    "# Evaluate the loaded pre trained model"
   ]
  },
  {
   "cell_type": "code",
   "execution_count": 56,
   "id": "71d46abd",
   "metadata": {},
   "outputs": [
    {
     "name": "stdout",
     "output_type": "stream",
     "text": [
      "              precision    recall  f1-score   support\n",
      "\n",
      "    negative       0.77      0.65      0.71      2002\n",
      "     neutral       0.85      0.96      0.90      1996\n",
      "    positive       0.75      0.77      0.76      2002\n",
      "\n",
      "    accuracy                           0.79      6000\n",
      "   macro avg       0.79      0.79      0.79      6000\n",
      "weighted avg       0.79      0.79      0.79      6000\n",
      "\n"
     ]
    }
   ],
   "source": [
    "# Convert text data to numerical feature vectors using TF-IDF vectorization\n",
    "vectorizer = TfidfVectorizer()\n",
    "X_train_vectors = vectorizer.fit_transform(X_train)\n",
    "X_test_vectors = vectorizer.transform(X_test)\n",
    "\n",
    "# Make predictions on the test set\n",
    "y_pred = rf_classifier.predict(X_test_vectors)\n",
    "\n",
    "# Evaluate the model\n",
    "report = classification_report(y_test, y_pred)\n",
    "print(report)"
   ]
  },
  {
   "cell_type": "code",
   "execution_count": 47,
   "id": "dbf06904",
   "metadata": {},
   "outputs": [],
   "source": [
    "from sklearn.model_selection import cross_val_score"
   ]
  },
  {
   "cell_type": "markdown",
   "id": "745496aa",
   "metadata": {},
   "source": [
    "## I was trying to find a better value for the number of estimators when I was trying to improve the model, the number of estimators represent the number of decision trees that are built during the training process, The cross validation technique helped me to find a balance between accuracy and computational efficiency."
   ]
  },
  {
   "cell_type": "code",
   "execution_count": 49,
   "id": "109c68a0",
   "metadata": {},
   "outputs": [
    {
     "name": "stdout",
     "output_type": "stream",
     "text": [
      "Number of estimators: 50, Mean accuracy: 0.7848\n",
      "Number of estimators: 100, Mean accuracy: 0.7936\n",
      "Number of estimators: 150, Mean accuracy: 0.7980\n",
      "Number of estimators: 200, Mean accuracy: 0.8008\n",
      "Number of estimators: 250, Mean accuracy: 0.8023\n"
     ]
    }
   ],
   "source": [
    "# Create a Random Forest classifier\n",
    "rf_classifier = RandomForestClassifier(random_state=42)\n",
    "\n",
    "# Define a list of candidate number of estimators\n",
    "n_estimators_list = [50, 100, 150, 200, 250]\n",
    "\n",
    "# Perform cross-validation and evaluate performance for each number of estimators\n",
    "for n_estimators in n_estimators_list:\n",
    "    rf_classifier.n_estimators = n_estimators\n",
    "    scores = cross_val_score(rf_classifier, X_train_vectors, y_train, cv=5, scoring='accuracy')\n",
    "    mean_score = scores.mean()\n",
    "    print(f\"Number of estimators: {n_estimators}, Mean accuracy: {mean_score:.4f}\")"
   ]
  },
  {
   "cell_type": "code",
   "execution_count": null,
   "id": "b5735b80",
   "metadata": {},
   "outputs": [],
   "source": []
  }
 ],
 "metadata": {
  "kernelspec": {
   "display_name": "Python 3 (ipykernel)",
   "language": "python",
   "name": "python3"
  },
  "language_info": {
   "codemirror_mode": {
    "name": "ipython",
    "version": 3
   },
   "file_extension": ".py",
   "mimetype": "text/x-python",
   "name": "python",
   "nbconvert_exporter": "python",
   "pygments_lexer": "ipython3",
   "version": "3.10.9"
  }
 },
 "nbformat": 4,
 "nbformat_minor": 5
}
